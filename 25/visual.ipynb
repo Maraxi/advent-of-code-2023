{
 "cells": [
  {
   "cell_type": "code",
   "execution_count": 1,
   "outputs": [],
   "source": [
    "from graphviz import Digraph\n",
    "from solution import *\n",
    "from helpers import *\n",
    "data = load(2)"
   ],
   "metadata": {
    "collapsed": false,
    "ExecuteTime": {
     "end_time": "2023-12-25T06:55:44.150303689Z",
     "start_time": "2023-12-25T06:55:44.111952466Z"
    }
   },
   "id": "9b0c846974b7232e"
  },
  {
   "cell_type": "code",
   "execution_count": 2,
   "outputs": [],
   "source": [
    "dot = Digraph()\n",
    "\n",
    "nodes = set()\n",
    "e = []\n",
    "for line in data:\n",
    "    first, rest = line.split(\": \")\n",
    "    singles = rest.split(\" \")\n",
    "    nodes.add(first)\n",
    "    for s in singles:\n",
    "        # Manually identify and remove edges\n",
    "        if first == \"psj\" and s == \"fdb\":\n",
    "            continue\n",
    "        if first == \"rmt\" and s == \"nqh\":\n",
    "            continue\n",
    "        if first == \"ltn\" and s == \"trh\":\n",
    "            continue\n",
    "        nodes.add(s)\n",
    "        e.append((first, s))"
   ],
   "metadata": {
    "collapsed": false,
    "ExecuteTime": {
     "end_time": "2023-12-25T06:55:44.193123451Z",
     "start_time": "2023-12-25T06:55:44.192262042Z"
    }
   },
   "id": "7961b1e370b55468"
  },
  {
   "cell_type": "code",
   "outputs": [
    {
     "data": {
      "text/plain": "'Digraph.gv.pdf'"
     },
     "execution_count": 3,
     "metadata": {},
     "output_type": "execute_result"
    }
   ],
   "source": [
    "l = len(e)\n",
    "# Only displaying a fraction of the edges preserves most of the structure but makes the connectors identifiable\n",
    "for pair in e[0:l]:\n",
    "    dot.edge(*pair)\n",
    "\n",
    "dot.render(view=True)\n",
    "#dot"
   ],
   "metadata": {
    "collapsed": false,
    "ExecuteTime": {
     "end_time": "2023-12-25T06:56:02.272366255Z",
     "start_time": "2023-12-25T06:55:44.204400901Z"
    }
   },
   "id": "654c6ccd07732f82",
   "execution_count": 3
  },
  {
   "cell_type": "code",
   "outputs": [
    {
     "name": "stdout",
     "output_type": "stream",
     "text": [
      "772 1535 589036\n"
     ]
    }
   ],
   "source": [
    "left = {next(iter(nodes))}\n",
    "change = True\n",
    "while change:\n",
    "    change = False\n",
    "    for edge in e:\n",
    "        if edge[0] in left and edge[1] not in left:\n",
    "            left.add(edge[1])\n",
    "            change = True\n",
    "        elif edge[1] in left and edge[0] not in left:\n",
    "            left.add(edge[0])\n",
    "            change = True\n",
    "\n",
    "k = len(left)\n",
    "a = len(nodes)\n",
    "print(k, a, (a-k)*k)"
   ],
   "metadata": {
    "collapsed": false,
    "ExecuteTime": {
     "end_time": "2023-12-25T06:56:02.302425250Z",
     "start_time": "2023-12-25T06:56:02.267865926Z"
    }
   },
   "id": "5ed5bb64209533f3",
   "execution_count": 4
  }
 ],
 "metadata": {
  "kernelspec": {
   "display_name": "Python 3",
   "language": "python",
   "name": "python3"
  },
  "language_info": {
   "codemirror_mode": {
    "name": "ipython",
    "version": 2
   },
   "file_extension": ".py",
   "mimetype": "text/x-python",
   "name": "python",
   "nbconvert_exporter": "python",
   "pygments_lexer": "ipython2",
   "version": "2.7.6"
  }
 },
 "nbformat": 4,
 "nbformat_minor": 5
}
