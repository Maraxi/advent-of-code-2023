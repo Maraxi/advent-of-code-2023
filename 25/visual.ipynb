{
 "cells": [
  {
   "cell_type": "code",
   "execution_count": 1,
   "outputs": [],
   "source": [
    "from graphviz import Digraph\n",
    "from solution import *\n",
    "from helpers import *\n",
    "data = load(2)"
   ],
   "metadata": {
    "collapsed": false,
    "ExecuteTime": {
     "end_time": "2023-12-25T07:19:05.843120335Z",
     "start_time": "2023-12-25T07:19:05.768269612Z"
    }
   },
   "id": "9b0c846974b7232e"
  },
  {
   "cell_type": "code",
   "outputs": [],
   "source": [
    "dot = Digraph(engine=\"neato\")\n",
    "\n",
    "nodes = set()\n",
    "e = []\n",
    "for line in data:\n",
    "    first, rest = line.split(\": \")\n",
    "    singles = rest.split(\" \")\n",
    "    nodes.add(first)\n",
    "    for s in singles:\n",
    "        nodes.add(s)\n",
    "        e.append((first, s))"
   ],
   "metadata": {
    "collapsed": false
   },
   "id": "7961b1e370b55468",
   "execution_count": 2
  },
  {
   "cell_type": "code",
   "outputs": [
    {
     "data": {
      "text/plain": "'Graph.gv.pdf'"
     },
     "execution_count": 3,
     "metadata": {},
     "output_type": "execute_result"
    }
   ],
   "source": [
    "l = len(e)\n",
    "for pair in e[0:l]:\n",
    "    dot.edge(*pair)\n",
    "\n",
    "dot.render(view=True)\n",
    "#dot"
   ],
   "metadata": {
    "collapsed": false,
    "ExecuteTime": {
     "end_time": "2023-12-25T07:19:22.636872001Z",
     "start_time": "2023-12-25T07:19:05.824974736Z"
    }
   },
   "id": "654c6ccd07732f82",
   "execution_count": 3
  },
  {
   "cell_type": "code",
   "outputs": [
    {
     "name": "stdout",
     "output_type": "stream",
     "text": [
      "772 1535 589036\n"
     ]
    }
   ],
   "source": [
    "left = {next(iter(nodes))}\n",
    "change = True\n",
    "while change:\n",
    "    change = False\n",
    "    for edge in e:\n",
    "        # Manually identify and remove edges\n",
    "        if edge[0] == \"psj\" and edge[1] == \"fdb\":\n",
    "            continue\n",
    "        if edge[0] == \"rmt\" and edge[1] == \"nqh\":\n",
    "            continue\n",
    "        if edge[0] == \"ltn\" and edge[1] == \"trh\":\n",
    "            continue\n",
    "        if edge[0] in left and edge[1] not in left:\n",
    "            left.add(edge[1])\n",
    "            change = True\n",
    "        elif edge[1] in left and edge[0] not in left:\n",
    "            left.add(edge[0])\n",
    "            change = True\n",
    "\n",
    "k = len(left)\n",
    "a = len(nodes)\n",
    "print(k, a, (a-k)*k)"
   ],
   "metadata": {
    "collapsed": false,
    "ExecuteTime": {
     "end_time": "2023-12-25T07:19:22.638349608Z",
     "start_time": "2023-12-25T07:19:22.612301870Z"
    }
   },
   "id": "5ed5bb64209533f3",
   "execution_count": 4
  }
 ],
 "metadata": {
  "kernelspec": {
   "display_name": "Python 3",
   "language": "python",
   "name": "python3"
  },
  "language_info": {
   "codemirror_mode": {
    "name": "ipython",
    "version": 2
   },
   "file_extension": ".py",
   "mimetype": "text/x-python",
   "name": "python",
   "nbconvert_exporter": "python",
   "pygments_lexer": "ipython2",
   "version": "2.7.6"
  }
 },
 "nbformat": 4,
 "nbformat_minor": 5
}
